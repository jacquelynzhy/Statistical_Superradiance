{
 "cells": [
  {
   "cell_type": "markdown",
   "id": "9a27bf06",
   "metadata": {},
   "source": [
    "# Introduction and Set Up "
   ]
  },
  {
   "cell_type": "markdown",
   "id": "3e7647e3",
   "metadata": {},
   "source": [
    "Based on Zhu et al. 2025, our goal is to derive the statistical characteristics of binary black hole systems in actuality. Therefore, we must conduct a simulation utilizing SEVN (Spera et al. 2018) with initial conditions derived from observational data within our own galaxy. This notebook is dedicated to generating the initial conditions for the SEVN simulation. \n",
    "\n",
    "Zhu et al. 2025: https://doi.org/10.48550/arXiv.2409.14159 \\\n",
    "Spera et al. 2018: https://doi.org/10.1093/mnras/stz359 \n",
    "\n",
    "SEVN userguide can be found in: https://gitlab.com/sevncodes/sevn "
   ]
  },
  {
   "cell_type": "markdown",
   "id": "86f7f109",
   "metadata": {},
   "source": [
    "To run the simulation, we need to provide input values for the mass of the primary and secondary stellar objects, their respective metallicities, dimensionless stellar spins, supernova types, initial stellar ages, semimajor axes, eccentricities, simulation end time, and the output time schedule."
   ]
  },
  {
   "cell_type": "code",
   "execution_count": 1,
   "id": "8d8acf9c",
   "metadata": {},
   "outputs": [],
   "source": [
    "# Scale factor \n",
    "\n",
    "DAY=3600 * 24   # second\n",
    "G = 6.6743e-11  # m3 kg-1 s-2"
   ]
  },
  {
   "cell_type": "code",
   "execution_count": 2,
   "id": "e19bf87d",
   "metadata": {},
   "outputs": [],
   "source": [
    "# Set number of datapoints for each kernal \n",
    "number=60000000 "
   ]
  },
  {
   "cell_type": "markdown",
   "id": "04083074",
   "metadata": {},
   "source": [
    "# Primary and Secondary Stellar Mass Distribution "
   ]
  },
  {
   "cell_type": "markdown",
   "id": "b8b76f5a",
   "metadata": {},
   "source": [
    "The primary mass follows a power-law distribution based on Kroupa, 2001 \n",
    "$$\\xi(M_1)\\propto M_1^{-2.3} ~ , \\quad M_1\\in[10 M_{\\odot},150M_{\\odot}] ~ . $$\n",
    "\n",
    "Kroupa, 2001: https://doi.org/10.1046/j.1365-8711.2001.04022.x "
   ]
  },
  {
   "cell_type": "code",
   "execution_count": 16,
   "id": "82890cc2",
   "metadata": {},
   "outputs": [],
   "source": [
    "# Define the power law code based on the distribution above \n",
    "\n",
    "import numpy as np\n",
    "\n",
    "def M1powerlaw(x, idx=-2.3, start=10,end=150):\n",
    "    return x**idx\n",
    "\n",
    "class SamplingProbability():\n",
    "    def __init__(self, pdf, domain, isLog=False, **kwargs):\n",
    "        self.pdf = pdf\n",
    "        self.domain = domain\n",
    "        self.isLog = isLog\n",
    "        self.pdf_args = kwargs\n",
    "        self._compute_cdf()\n",
    "    def eval_pdf(self, x):\n",
    "#         if self.isLog:\n",
    "#             return np.log10(self.pdf( x, **self.pdf_args ))\n",
    "        return self.pdf( x, **self.pdf_args )        \n",
    "    def _compute_cdf(self):\n",
    "        self.generate_grid_points()\n",
    "        p = self.eval_pdf(self.grids)\n",
    "        if self.isLog:\n",
    "            ln10 = np.log(10) # this normalization constant can drop. __normalize will cancel it\n",
    "            self.cdf = ln10 * np.cumsum( p*self.grids  )\n",
    "        else:\n",
    "            self.cdf = np.cumsum(p) # if it is log grid, should not use this formula\n",
    "        self.__normalize_cdf()\n",
    "    def generate_grid_points(self, precision=100):\n",
    "        if self.isLog:\n",
    "            __lower = np.log10(self.domain[0])\n",
    "            __upper = np.log10(self.domain[1])\n",
    "            self.grids = 10**np.linspace(__lower, __upper, precision)\n",
    "        else:\n",
    "            self.grids = np.linspace( self.domain[0], self.domain[1], precision )\n",
    "    def __normalize_cdf(self):\n",
    "        self.cdf -= np.min(self.cdf)\n",
    "        self.cdf /= np.max(self.cdf)\n",
    "        # check cdf normalization\n",
    "        assert np.max( self.cdf ) == 1 and np.min(self.cdf) == 0\n",
    "    def generate_samples(self, n_samples):\n",
    "        # for the explanation, see the wiki page of \"inverse sampling transform\"\n",
    "        u = np.random.random(n_samples)\n",
    "        # numerical inverse of cdf (monotonic) is just reversed grid points\n",
    "        if self.isLog:\n",
    "            lgu = np.log10(u)\n",
    "            return 10**(np.interp( lgu, np.log10(self.cdf), np.log10(self.grids) ))\n",
    "        else:\n",
    "            return np.interp( u, self.cdf, self.grids )\n"
   ]
  },
  {
   "cell_type": "code",
   "execution_count": 17,
   "id": "08b3413e",
   "metadata": {},
   "outputs": [],
   "source": [
    "PM1=SamplingProbability(M1powerlaw, [10,150] )\n",
    "\n",
    "# sample data points from M1 \n",
    "ListM1 = PM1.generate_samples(number) # in Msun \n",
    "ListtM1=ListM1.tolist() "
   ]
  },
  {
   "cell_type": "markdown",
   "id": "001c1571",
   "metadata": {},
   "source": [
    "The mass of the secondary ZAMS star $M_2$ is determined by the distribution of initial mass ratio $q_i$ \n",
    "$$\\begin{aligned}\n",
    "&\\xi(q_i)\\propto q_i^{-0.1} ~ , \\\\   & q_i=\\frac{M_2}{M_1}\\in[0.1,1]\\quad \\text{and}\\quad M_2\\geq10M_{\\odot} ~ .\n",
    "\\end{aligned}$$\n",
    "based on "
   ]
  },
  {
   "cell_type": "code",
   "execution_count": 20,
   "id": "7ed3d27a",
   "metadata": {},
   "outputs": [],
   "source": [
    "# Generate mass ratio q:  a power law distribution, with power law index = -0.1 \n",
    "\n",
    "from scipy.stats import powerlaw\n",
    "\n",
    "Listq=powerlaw.rvs(a=0.9,loc=0.1,scale=0.9,size=number,random_state=None)\n",
    "Listtq=Listq.tolist()\n",
    "\n",
    "#Thus the distribution of secondary ZAMS mass M2 is \n",
    "ListM2=ListM1*Listq # in Msun \n",
    "ListtM2=ListM2.tolist() "
   ]
  },
  {
   "cell_type": "markdown",
   "id": "8904e141",
   "metadata": {},
   "source": [
    "# Initial Orbital Properties "
   ]
  },
  {
   "cell_type": "markdown",
   "id": "152ef5e9",
   "metadata": {},
   "source": [
    "The orbital properties considered are the period of the binaries $P_i$ and their eccentricities $e_i$ that are drawn from the following probability distributions\n",
    "$$\\begin{aligned}\n",
    "&\\xi(\\mathcal P_i)\\propto \\mathcal{P}_i^{-0.55} ~ , \\quad \\mathcal P_i\\equiv\\log_{10}\\frac{P_i}{\\rm day}\\in[0.15,5.5]~ , \\\\&\\xi(e_i)\\propto e_i^{-0.42} ~ , \\quad  e_i\\in[0,1] ~ . \n",
    "\\end{aligned}$$"
   ]
  },
  {
   "cell_type": "code",
   "execution_count": 19,
   "id": "238813ae",
   "metadata": {},
   "outputs": [],
   "source": [
    "# Generate period: make a power law distribution, with power law index = -0.55\n",
    "ListP1=powerlaw.rvs(a=0.45,loc=0.15,scale=5.35,size=number,random_state=None) # In Log(P/days) \n",
    "ListP=(10**ListP1)*DAY # In second\n",
    "ListtP=ListP.tolist()\n",
    "\n",
    "#Generate eccentricity: make a power law distribution, with power law index = -0.42\n",
    "Liste=powerlaw.rvs(a=0.58,loc=0,scale=1,size=number,random_state=None)\n",
    "Listte=Liste.tolist()"
   ]
  },
  {
   "cell_type": "code",
   "execution_count": 22,
   "id": "7988a60c",
   "metadata": {},
   "outputs": [],
   "source": [
    "# Calculate semi major axis using period \n",
    "Listp=(((ListP/(2*np.pi))**2 * G * (ListM1*2e30) * (Listq+1) * (1-Liste**2)**3)**(1/3))/(696340* 10**3) # Semi letus rectum in Rsun \n",
    "Listsemi=Listp/(1-Liste**2) # in Rsun \n",
    "Listtsemi=Listsemi.tolist()"
   ]
  },
  {
   "cell_type": "markdown",
   "id": "507ae3a5",
   "metadata": {},
   "source": [
    "# Black Hole Spin Distribution "
   ]
  },
  {
   "cell_type": "markdown",
   "id": "0a4b171c",
   "metadata": {},
   "source": [
    "We can choose from zero spin distribution (all stellar has zero spin), maximal spin distribution (all stellar has dimensionless spin 1), uniform spin distribution (spin distributed uniformly from 0 to 1). In our simulation, we choose uniform spin distribution.  "
   ]
  },
  {
   "cell_type": "code",
   "execution_count": 23,
   "id": "587b05bc",
   "metadata": {},
   "outputs": [],
   "source": [
    "#Create three types of spin list \n",
    "\n",
    "from scipy.stats import uniform\n",
    "\n",
    "ListZeroSpin=np.zeros(number)\n",
    "ListMaximalSpin=np.ones(number)\n",
    "ListUniformSpin=uniform.rvs(loc=0,scale=1,size=number,random_state=None)\n",
    "ListtZeroSpin=ListZeroSpin.tolist()\n",
    "ListtMaximalSpin=ListMaximalSpin.tolist()\n",
    "ListtUniformSpin=ListUniformSpin.tolist()"
   ]
  },
  {
   "cell_type": "markdown",
   "id": "40fd4b83",
   "metadata": {},
   "source": [
    "# Metallicity"
   ]
  },
  {
   "cell_type": "markdown",
   "id": "204705f8",
   "metadata": {},
   "source": [
    "We draw a sample of metallicities following the distribution reported in Figure 5 of Lagarde et al., 2021. Defining $\\mathcal{Z}=[\\rm{Fe}/H]$ as the metallicity, they obtain the distribution in their Figure 5 that we are able to fit with the sum of a Gaussian and a power-law function \n",
    "$$\\begin{aligned}&\\xi(\\mathcal{Z})=\\xi_1(\\mathcal{Z})+\\xi_2(\\mathcal{Z}) ~ ,~\\text{with }\\mathcal Z\\in[0,0.5]\\text{  and}\\\\\n",
    "        &\\xi_1(\\mathcal Z)=0.03\\times\\mathcal Z^{0.45}+0.004  ~, \\\\&\\xi_2(\\mathcal{Z})=0.11\\times \\exp\\left[\\frac{(\\mathcal{Z}-0.61)^2}{2\\times0.008^2}\\right]~.\n",
    "\\end{aligned}$$\n",
    "We have converted the Iron abundance metallicities in units of solar metallicities using $ Z=Z_{\\odot}\\times10^{\\mathcal Z} $, with $Z_{\\odot}=0.02$.\n",
    "\n",
    "Lagarde et al., 2021: https://doi.org/10.1051/0004-6361/202039982 "
   ]
  },
  {
   "cell_type": "code",
   "execution_count": 25,
   "id": "e30b4da1",
   "metadata": {},
   "outputs": [],
   "source": [
    "# define a gaussian funtion with parameters A,X_mean, sigma\n",
    "def gaus(X,A,X_mean,sigma):\n",
    "    return A*np.exp(-(X-X_mean)**2/(2*sigma**2))\n",
    "\n",
    "# define a powerlaw distribution with parameters A, a, cut, offset \n",
    "def power(X,A,a,cut,offset):\n",
    "    flag=(X<cut).astype(int)\n",
    "    return flag*A*X**a+offset\n",
    "\n",
    "# define the distribution combine the Gaussian and power-law function using the definition above\n",
    "def dist(X):\n",
    "    return gaus(X,0.11239582,0.61297987,0.10741941)+power(X,0.03060204,0.45446939,0.5,0.00395605)\n",
    "\n",
    "# Distribution of metallicity \n",
    "PZ=SamplingProbability(dist, [0,1] )\n",
    "\n",
    "#List of Metallicity \n",
    "ListZ1=PZ.generate_samples(number)\n",
    "ListZ2=ListZ1*1.339912723097303-0.8755311276207431\n",
    "ListZ=0.02*10**ListZ2\n",
    "ListtZ=ListZ.tolist()"
   ]
  },
  {
   "cell_type": "markdown",
   "id": "7afa20bf",
   "metadata": {},
   "source": [
    "# Other Setting For Simulation "
   ]
  },
  {
   "cell_type": "code",
   "execution_count": 26,
   "id": "b289b132",
   "metadata": {},
   "outputs": [],
   "source": [
    "# Other list in str type \n",
    "\n",
    "# Supernova type: choose from rapid, delayed, rapid_gauNS, delayed_gauNS, compact, directcollapse, deathmatrix \n",
    "Listsn=['rapid'] * number \n",
    "# Choose initial stellar age: choose from zams,tams, shb, cheb, tcheb, sheb\n",
    "Listtstart=['zams'] * number \n",
    "# Choose end time of the simulation: choose from end or broken or specific time \n",
    "Listend=['end'] * number \n",
    "# Time shcedule for output: choose from List, Interval, all, end, events, eventsrlo or input specific time \n",
    "Listtout=['end'] * number "
   ]
  },
  {
   "cell_type": "markdown",
   "id": "0027d8ea",
   "metadata": {},
   "source": [
    "# Construct the Initial Dataset "
   ]
  },
  {
   "cell_type": "code",
   "execution_count": 28,
   "id": "bc41224b",
   "metadata": {},
   "outputs": [],
   "source": [
    "#Remember to choose a spin distribution here \n",
    "import pandas as pd\n",
    "dataframe1=pd.DataFrame({'M1': ListtM1,'Z1':ListtZ,'Omega1':ListtUniformSpin,\"sn1\":Listsn,'tstart1':Listtstart,'M2':ListtM2,'Z2':ListtZ,'Omega2':ListtUniformSpin,'sn2':Listsn,'tstart2':Listtstart,'a':Listtsemi,'e':Listte,'tend':Listend,'dtout':Listtout})"
   ]
  },
  {
   "cell_type": "code",
   "execution_count": 29,
   "id": "c2bd87c8",
   "metadata": {},
   "outputs": [
    {
     "data": {
      "text/html": [
       "<div>\n",
       "<style scoped>\n",
       "    .dataframe tbody tr th:only-of-type {\n",
       "        vertical-align: middle;\n",
       "    }\n",
       "\n",
       "    .dataframe tbody tr th {\n",
       "        vertical-align: top;\n",
       "    }\n",
       "\n",
       "    .dataframe thead th {\n",
       "        text-align: right;\n",
       "    }\n",
       "</style>\n",
       "<table border=\"1\" class=\"dataframe\">\n",
       "  <thead>\n",
       "    <tr style=\"text-align: right;\">\n",
       "      <th></th>\n",
       "      <th>M1</th>\n",
       "      <th>Z1</th>\n",
       "      <th>Omega1</th>\n",
       "      <th>sn1</th>\n",
       "      <th>tstart1</th>\n",
       "      <th>M2</th>\n",
       "      <th>Z2</th>\n",
       "      <th>Omega2</th>\n",
       "      <th>sn2</th>\n",
       "      <th>tstart2</th>\n",
       "      <th>a</th>\n",
       "      <th>e</th>\n",
       "      <th>tend</th>\n",
       "      <th>dtout</th>\n",
       "    </tr>\n",
       "  </thead>\n",
       "  <tbody>\n",
       "    <tr>\n",
       "      <th>0</th>\n",
       "      <td>12.811577</td>\n",
       "      <td>0.015407</td>\n",
       "      <td>0.910202</td>\n",
       "      <td>rapid</td>\n",
       "      <td>zams</td>\n",
       "      <td>10.131569</td>\n",
       "      <td>0.015407</td>\n",
       "      <td>0.910202</td>\n",
       "      <td>rapid</td>\n",
       "      <td>zams</td>\n",
       "      <td>15.941487</td>\n",
       "      <td>0.375583</td>\n",
       "      <td>end</td>\n",
       "      <td>end</td>\n",
       "    </tr>\n",
       "    <tr>\n",
       "      <th>1</th>\n",
       "      <td>17.052604</td>\n",
       "      <td>0.003972</td>\n",
       "      <td>0.700718</td>\n",
       "      <td>rapid</td>\n",
       "      <td>zams</td>\n",
       "      <td>16.397239</td>\n",
       "      <td>0.003972</td>\n",
       "      <td>0.700718</td>\n",
       "      <td>rapid</td>\n",
       "      <td>zams</td>\n",
       "      <td>27.928627</td>\n",
       "      <td>0.002581</td>\n",
       "      <td>end</td>\n",
       "      <td>end</td>\n",
       "    </tr>\n",
       "    <tr>\n",
       "      <th>4</th>\n",
       "      <td>23.459817</td>\n",
       "      <td>0.008974</td>\n",
       "      <td>0.280005</td>\n",
       "      <td>rapid</td>\n",
       "      <td>zams</td>\n",
       "      <td>18.799192</td>\n",
       "      <td>0.008974</td>\n",
       "      <td>0.280005</td>\n",
       "      <td>rapid</td>\n",
       "      <td>zams</td>\n",
       "      <td>23.218480</td>\n",
       "      <td>0.276763</td>\n",
       "      <td>end</td>\n",
       "      <td>end</td>\n",
       "    </tr>\n",
       "    <tr>\n",
       "      <th>6</th>\n",
       "      <td>32.351466</td>\n",
       "      <td>0.019043</td>\n",
       "      <td>0.606185</td>\n",
       "      <td>rapid</td>\n",
       "      <td>zams</td>\n",
       "      <td>28.270256</td>\n",
       "      <td>0.019043</td>\n",
       "      <td>0.606185</td>\n",
       "      <td>rapid</td>\n",
       "      <td>zams</td>\n",
       "      <td>616.847289</td>\n",
       "      <td>0.259445</td>\n",
       "      <td>end</td>\n",
       "      <td>end</td>\n",
       "    </tr>\n",
       "    <tr>\n",
       "      <th>7</th>\n",
       "      <td>31.635051</td>\n",
       "      <td>0.023284</td>\n",
       "      <td>0.928034</td>\n",
       "      <td>rapid</td>\n",
       "      <td>zams</td>\n",
       "      <td>13.392434</td>\n",
       "      <td>0.023284</td>\n",
       "      <td>0.928034</td>\n",
       "      <td>rapid</td>\n",
       "      <td>zams</td>\n",
       "      <td>219.268441</td>\n",
       "      <td>0.802589</td>\n",
       "      <td>end</td>\n",
       "      <td>end</td>\n",
       "    </tr>\n",
       "    <tr>\n",
       "      <th>...</th>\n",
       "      <td>...</td>\n",
       "      <td>...</td>\n",
       "      <td>...</td>\n",
       "      <td>...</td>\n",
       "      <td>...</td>\n",
       "      <td>...</td>\n",
       "      <td>...</td>\n",
       "      <td>...</td>\n",
       "      <td>...</td>\n",
       "      <td>...</td>\n",
       "      <td>...</td>\n",
       "      <td>...</td>\n",
       "      <td>...</td>\n",
       "      <td>...</td>\n",
       "    </tr>\n",
       "    <tr>\n",
       "      <th>59999993</th>\n",
       "      <td>21.775334</td>\n",
       "      <td>0.004185</td>\n",
       "      <td>0.889787</td>\n",
       "      <td>rapid</td>\n",
       "      <td>zams</td>\n",
       "      <td>10.345964</td>\n",
       "      <td>0.004185</td>\n",
       "      <td>0.889787</td>\n",
       "      <td>rapid</td>\n",
       "      <td>zams</td>\n",
       "      <td>10908.149707</td>\n",
       "      <td>0.924916</td>\n",
       "      <td>end</td>\n",
       "      <td>end</td>\n",
       "    </tr>\n",
       "    <tr>\n",
       "      <th>59999994</th>\n",
       "      <td>58.551411</td>\n",
       "      <td>0.017409</td>\n",
       "      <td>0.064217</td>\n",
       "      <td>rapid</td>\n",
       "      <td>zams</td>\n",
       "      <td>58.337987</td>\n",
       "      <td>0.017409</td>\n",
       "      <td>0.064217</td>\n",
       "      <td>rapid</td>\n",
       "      <td>zams</td>\n",
       "      <td>4186.689297</td>\n",
       "      <td>0.640620</td>\n",
       "      <td>end</td>\n",
       "      <td>end</td>\n",
       "    </tr>\n",
       "    <tr>\n",
       "      <th>59999996</th>\n",
       "      <td>27.193589</td>\n",
       "      <td>0.021608</td>\n",
       "      <td>0.680499</td>\n",
       "      <td>rapid</td>\n",
       "      <td>zams</td>\n",
       "      <td>19.646346</td>\n",
       "      <td>0.021608</td>\n",
       "      <td>0.680499</td>\n",
       "      <td>rapid</td>\n",
       "      <td>zams</td>\n",
       "      <td>1227.371023</td>\n",
       "      <td>0.381645</td>\n",
       "      <td>end</td>\n",
       "      <td>end</td>\n",
       "    </tr>\n",
       "    <tr>\n",
       "      <th>59999997</th>\n",
       "      <td>20.985800</td>\n",
       "      <td>0.011587</td>\n",
       "      <td>0.247865</td>\n",
       "      <td>rapid</td>\n",
       "      <td>zams</td>\n",
       "      <td>11.111511</td>\n",
       "      <td>0.011587</td>\n",
       "      <td>0.247865</td>\n",
       "      <td>rapid</td>\n",
       "      <td>zams</td>\n",
       "      <td>16.860073</td>\n",
       "      <td>0.874193</td>\n",
       "      <td>end</td>\n",
       "      <td>end</td>\n",
       "    </tr>\n",
       "    <tr>\n",
       "      <th>59999999</th>\n",
       "      <td>34.106825</td>\n",
       "      <td>0.034348</td>\n",
       "      <td>0.501975</td>\n",
       "      <td>rapid</td>\n",
       "      <td>zams</td>\n",
       "      <td>15.136569</td>\n",
       "      <td>0.034348</td>\n",
       "      <td>0.501975</td>\n",
       "      <td>rapid</td>\n",
       "      <td>zams</td>\n",
       "      <td>224.474532</td>\n",
       "      <td>0.345385</td>\n",
       "      <td>end</td>\n",
       "      <td>end</td>\n",
       "    </tr>\n",
       "  </tbody>\n",
       "</table>\n",
       "<p>27174274 rows × 14 columns</p>\n",
       "</div>"
      ],
      "text/plain": [
       "                 M1        Z1    Omega1    sn1 tstart1         M2        Z2  \\\n",
       "0         12.811577  0.015407  0.910202  rapid    zams  10.131569  0.015407   \n",
       "1         17.052604  0.003972  0.700718  rapid    zams  16.397239  0.003972   \n",
       "4         23.459817  0.008974  0.280005  rapid    zams  18.799192  0.008974   \n",
       "6         32.351466  0.019043  0.606185  rapid    zams  28.270256  0.019043   \n",
       "7         31.635051  0.023284  0.928034  rapid    zams  13.392434  0.023284   \n",
       "...             ...       ...       ...    ...     ...        ...       ...   \n",
       "59999993  21.775334  0.004185  0.889787  rapid    zams  10.345964  0.004185   \n",
       "59999994  58.551411  0.017409  0.064217  rapid    zams  58.337987  0.017409   \n",
       "59999996  27.193589  0.021608  0.680499  rapid    zams  19.646346  0.021608   \n",
       "59999997  20.985800  0.011587  0.247865  rapid    zams  11.111511  0.011587   \n",
       "59999999  34.106825  0.034348  0.501975  rapid    zams  15.136569  0.034348   \n",
       "\n",
       "            Omega2    sn2 tstart2             a         e tend dtout  \n",
       "0         0.910202  rapid    zams     15.941487  0.375583  end   end  \n",
       "1         0.700718  rapid    zams     27.928627  0.002581  end   end  \n",
       "4         0.280005  rapid    zams     23.218480  0.276763  end   end  \n",
       "6         0.606185  rapid    zams    616.847289  0.259445  end   end  \n",
       "7         0.928034  rapid    zams    219.268441  0.802589  end   end  \n",
       "...            ...    ...     ...           ...       ...  ...   ...  \n",
       "59999993  0.889787  rapid    zams  10908.149707  0.924916  end   end  \n",
       "59999994  0.064217  rapid    zams   4186.689297  0.640620  end   end  \n",
       "59999996  0.680499  rapid    zams   1227.371023  0.381645  end   end  \n",
       "59999997  0.247865  rapid    zams     16.860073  0.874193  end   end  \n",
       "59999999  0.501975  rapid    zams    224.474532  0.345385  end   end  \n",
       "\n",
       "[27174274 rows x 14 columns]"
      ]
     },
     "execution_count": 29,
     "metadata": {},
     "output_type": "execute_result"
    }
   ],
   "source": [
    "dataframe=dataframe1[dataframe1['M2']>=10]\n",
    "dataframe"
   ]
  },
  {
   "cell_type": "markdown",
   "id": "ca5db3b9",
   "metadata": {},
   "source": [
    "# Save the Initial Data for One Kernal"
   ]
  },
  {
   "cell_type": "code",
   "execution_count": 30,
   "id": "b079e4c3",
   "metadata": {},
   "outputs": [],
   "source": [
    "dataframe.to_csv('listBin_v1.dat',sep=' ',header=None,index=None)"
   ]
  }
 ],
 "metadata": {
  "kernelspec": {
   "display_name": "Python 3",
   "language": "python",
   "name": "python3"
  },
  "language_info": {
   "codemirror_mode": {
    "name": "ipython",
    "version": 3
   },
   "file_extension": ".py",
   "mimetype": "text/x-python",
   "name": "python",
   "nbconvert_exporter": "python",
   "pygments_lexer": "ipython3",
   "version": "3.8.8"
  }
 },
 "nbformat": 4,
 "nbformat_minor": 5
}
